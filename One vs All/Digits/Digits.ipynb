{
 "cells": [
  {
   "cell_type": "markdown",
   "metadata": {},
   "source": [
    "## 1 - Packages ##"
   ]
  },
  {
   "cell_type": "code",
   "execution_count": 1,
   "metadata": {},
   "outputs": [],
   "source": [
    "import numpy as np\n",
    "from sklearn.datasets import load_digits \n",
    "import sklearn.model_selection as sk\n",
    "from copy import deepcopy\n",
    "from sklearn.metrics import accuracy_score"
   ]
  },
  {
   "cell_type": "markdown",
   "metadata": {},
   "source": [
    "## 2 - Load data, reshape and standardize ##"
   ]
  },
  {
   "cell_type": "code",
   "execution_count": 2,
   "metadata": {},
   "outputs": [],
   "source": [
    "###Load data\n",
    "digits = load_digits()\n",
    "\n",
    "X = digits.data\n",
    "y = digits.target\n",
    "\n",
    "classes = digits.target_names\n",
    "num_classes = classes.shape[0]\n",
    "\n",
    "# print(X.shape)\n",
    "# print(y.shape)"
   ]
  },
  {
   "cell_type": "code",
   "execution_count": 23,
   "metadata": {},
   "outputs": [],
   "source": [
    "###Split data into train and test set\n",
    "X_train, X_test, y_train, y_test = sk.train_test_split(X, y, test_size = 0.25, random_state = 0)\n",
    "\n",
    "# print(X_train.shape)\n",
    "# print(y_train.shape)\n",
    "# print(X_test.shape)\n",
    "# print(y_test.shape)"
   ]
  },
  {
   "cell_type": "code",
   "execution_count": 24,
   "metadata": {},
   "outputs": [],
   "source": [
    "###Reshape the training and test examples\n",
    "train_set_x_flatten = X_train.reshape(X_train.shape[0], -1).T\n",
    "test_set_x_flatten = X_test.reshape(X_test.shape[0], -1).T\n",
    "\n",
    "train_set_y = y_train.reshape(y_train.shape[0], -1).T\n",
    "test_set_y = y_test.reshape(y_test.shape[0], -1).T\n",
    "\n",
    "# print (\"train_set_x_flatten shape: \" + str(train_set_x_flatten.shape))\n",
    "# print (\"train_set_y shape: \" + str(y_train.shape))\n",
    "# print (\"test_set_x_flatten shape: \" + str(test_set_x_flatten.shape))\n",
    "# print (\"test_set_y shape: \" + str(y_test.shape))"
   ]
  },
  {
   "cell_type": "code",
   "execution_count": 25,
   "metadata": {},
   "outputs": [],
   "source": [
    "###Standardize dataset\n",
    "train_set_x = (train_set_x_flatten - np.mean(train_set_x_flatten, axis = 0)) / np.std(train_set_x_flatten, axis = 0)\n",
    "test_set_x = (test_set_x_flatten - np.mean(test_set_x_flatten, axis = 0)) / np.std(test_set_x_flatten, axis = 0)\n",
    "\n",
    "# print(train_set_x.shape)\n",
    "# print(test_set_x.shape)"
   ]
  },
  {
   "cell_type": "markdown",
   "metadata": {},
   "source": [
    "## 3 - Building the parts of our algorithm ## \n",
    "### 3.1 - Helper functions"
   ]
  },
  {
   "cell_type": "code",
   "execution_count": 6,
   "metadata": {},
   "outputs": [],
   "source": [
    "###Sigmoid function\n",
    "\n",
    "def sigmoid(z):\n",
    "    '''\n",
    "        OBJECTIVE: Compute the sigmoid of z.\n",
    "        INPUT PARAMETERS: \n",
    "                        z : A scalar or numpy array of any size.\n",
    "        RETURN VALUE:\n",
    "                        s : sigmoid(z)\n",
    "    '''\n",
    "    s = 1 / (1 + np.exp(-z))\n",
    "    \n",
    "    return s"
   ]
  },
  {
   "cell_type": "code",
   "execution_count": 7,
   "metadata": {},
   "outputs": [],
   "source": [
    "###Change labels.\n",
    "def changeLabels(class_number, y_train):\n",
    "    '''\n",
    "        OBJECTIVE: To change labels of the dataset such that if label is equals to class_number, change it to 1, else 0.\n",
    "        INPUT PARAMETERS:\n",
    "                        class_number : One of the target class number.\n",
    "                        y_train : training labels represented by a numpy array (vector) of shape (1, m_train)\n",
    "        RETURN VALUES:\n",
    "                    y_train_changed_label : training labels represented by array of shape (1, m_train), containing value = 1, where label = class_number, else 0.\n",
    "    '''\n",
    "    \n",
    "    #y_train_changed_label = deepcopy(y_train)\n",
    "    y_train_changed_label = np.where(y_train == class_number, 1, 0)\n",
    "    \n",
    "    \n",
    "    return y_train_changed_label"
   ]
  },
  {
   "cell_type": "markdown",
   "metadata": {},
   "source": [
    "### 3.2 - Initializing parameters"
   ]
  },
  {
   "cell_type": "code",
   "execution_count": 8,
   "metadata": {},
   "outputs": [],
   "source": [
    "def initialize_with_zeros(dim):\n",
    "    '''\n",
    "        OBJECTIVE: This function creates a vector of zeros of shape (dim, 1) for w and initializes b to 0.\n",
    "        INPUR PARAMETERS:\n",
    "                        dim : size of the w vector we want (or number of parameters in this case)\n",
    "        RETURN VALUE:\n",
    "                        w : initialized vector of shape (dim, 1)\n",
    "                        b : initialized scalar (corresponds to the bias)\n",
    "    '''\n",
    "    \n",
    "    w = np.zeros((dim, 1))\n",
    "    b = 0\n",
    "    \n",
    "    assert(w.shape == (dim, 1))\n",
    "    assert(isinstance(b, float) or isinstance(b, int))\n",
    "    \n",
    "    return w, b"
   ]
  },
  {
   "cell_type": "markdown",
   "metadata": {},
   "source": [
    "### 3.3 - Forward and Backward propagation"
   ]
  },
  {
   "cell_type": "code",
   "execution_count": 9,
   "metadata": {},
   "outputs": [],
   "source": [
    "def propagate(w, b, X, Y):\n",
    "    '''\n",
    "        OBJECTIVE: Implement the cost function and its gradient for the propagation.\n",
    "        INPUT PARAMETERS:\n",
    "                        w : weights, a numpy array of size (64, 1)\n",
    "                        b : bias, a scalar\n",
    "                        X : data of size (64, number of examples) #There are 64 features in the dataset.\n",
    "                        Y : true \"label\" vector (1, number of examples)\n",
    "        RETURN VALUE:\n",
    "                        cost : negative log-likelihood cost for logistic regression\n",
    "                        dw : gradient of the loss with respect to w, thus same shape as w\n",
    "                        db : gradient of the loss with respect to b, thus same shape as b\n",
    "    '''\n",
    "    \n",
    "    m = X.shape[1]\n",
    "    \n",
    "    #FORWARD PROPAGATION (From X to cost)\n",
    "    A = sigmoid(np.dot(w.T, X) + b)\n",
    "    cost = (-1/m) * np.sum(Y * np.log(A) + (1 - Y) * np.log(1 - A), axis = 1, keepdims = True)\n",
    "    \n",
    "    #BACK PROPAGATION (To find gradient)\n",
    "    dw = (1 / m) * np.dot(X, (A - Y).T)\n",
    "    db = (1 / m) * np.sum((A - Y), axis = 1, keepdims = True)\n",
    "    \n",
    "    assert(dw.shape == w.shape)\n",
    "    assert(db.dtype == float)\n",
    "    cost = np.squeeze(cost)\n",
    "    assert(cost.shape == ())\n",
    "    \n",
    "    grads = {\"dw\": dw,\n",
    "             \"db\": db}\n",
    "    \n",
    "    return grads, cost"
   ]
  },
  {
   "cell_type": "markdown",
   "metadata": {},
   "source": [
    "### 3.4 - Optimization"
   ]
  },
  {
   "cell_type": "code",
   "execution_count": 31,
   "metadata": {},
   "outputs": [],
   "source": [
    "def optimize(w, b, X, Y, num_iterations, learning_rate, print_cost = False):\n",
    "    '''\n",
    "        OBJECTIVE: This function optimizes w and b by running a gradient descent algorithm\n",
    "        INPUT PARAMETERS:\n",
    "                        w : weights, a numpy array of size (64, 1)\n",
    "                        b : bias, a scalar\n",
    "                        X : data of shape (64, number of examples)\n",
    "                        Y : true \"label\" vector of shape (1, number of examples)\n",
    "                        num_iterations : number of iterations of the optimization loop\n",
    "                        learning_rate : learning rate of the gradient descent update rule\n",
    "                        print_cost : True to print the loss every 100 steps\n",
    "    \n",
    "        RETURN VALUE:\n",
    "                        params : dictionary containing the weights w and bias b\n",
    "                        grads : dictionary containing the gradients of the weights and bias with respect to the cost function\n",
    "                        costs : list of all the costs computed during the optimization, this will be used to plot the learning curve.\n",
    "    '''\n",
    "    \n",
    "    costs = []\n",
    "    \n",
    "    for i in range(num_iterations):\n",
    "        \n",
    "        \n",
    "        # Cost and gradient calculation\n",
    "        grads, cost = propagate(w, b, X, Y)\n",
    "        \n",
    "        # Retrieve derivatives from grads\n",
    "        dw = grads[\"dw\"]\n",
    "        db = grads[\"db\"]\n",
    "        \n",
    "        # Update rule\n",
    "        w = w - learning_rate * dw\n",
    "        b = b - learning_rate * db\n",
    "        \n",
    "        # Record the costs\n",
    "        if i % 100 == 0:\n",
    "            costs.append(cost)\n",
    "        \n",
    "        # Print the cost every 100 training iterations\n",
    "        if print_cost and i % 100 == 0:\n",
    "            print (\"Cost after iteration %i: %f\" %(i, cost))\n",
    "    \n",
    "    params = {\"w\": w,\n",
    "              \"b\": b}\n",
    "    \n",
    "    grads = {\"dw\": dw,\n",
    "             \"db\": db}\n",
    "    \n",
    "    return params, grads, costs"
   ]
  },
  {
   "cell_type": "code",
   "execution_count": 11,
   "metadata": {},
   "outputs": [],
   "source": [
    "def predict(models, X):\n",
    "    '''\n",
    "        OBJECTIVE: Predict the label using learned logistic regression parameters (w, b)\n",
    "        INPUT PARAMETERS:\n",
    "                        models : dictionary containing weight and bias for different class labels.\n",
    "                        X : data of size (64, number of examples)\n",
    "\n",
    "        RETURN VALUES:\n",
    "                        Y_prediction : a numpy array (vector) containing all predictions for the examples in X\n",
    "    '''\n",
    "    \n",
    "    m = X.shape[1]  #no. of training examples\n",
    "    Y_prediction = np.zeros((1,m))\n",
    "    \n",
    "    A = np.zeros((10,m))\n",
    "    \n",
    "    for classNo in classes:\n",
    "        model = models[classNo]\n",
    "        w = model[\"w\"].reshape(X.shape[0], 1)\n",
    "        b = model[\"b\"]\n",
    "        a = sigmoid(np.dot(w.T, X) + b)\n",
    "        \n",
    "        A[classNo] = deepcopy(a)\n",
    "        \n",
    "    Y_prediction = np.reshape(np.argmax(A, axis = 0), (-1, m))\n",
    "    \n",
    "    assert(Y_prediction.shape == (1, m))\n",
    "    \n",
    "    return Y_prediction"
   ]
  },
  {
   "cell_type": "markdown",
   "metadata": {},
   "source": [
    "## 4 - Merge all functions into a model ##"
   ]
  },
  {
   "cell_type": "code",
   "execution_count": 32,
   "metadata": {},
   "outputs": [],
   "source": [
    "def model(X_train, Y_train, X_test, Y_test, num_iterations = 2000, learning_rate = 0.5, print_cost = False):\n",
    "    \"\"\"\n",
    "        OBJECTIVE: Builds the logistic regression model by calling the functions.    \n",
    "        INPUT PARAMETERS:\n",
    "                        X_train : training set represented by a numpy array of shape (64, m_train)\n",
    "                        Y_train : training labels represented by a numpy array (vector) of shape (1, m_train)\n",
    "                        X_test : test set represented by a numpy array of shape (64, m_test)\n",
    "                        Y_test : test labels represented by a numpy array (vector) of shape (1, m_test)\n",
    "                        num_iterations : hyperparameter representing the number of iterations to optimize the parameters\n",
    "                        learning_rate : hyperparameter representing the learning rate used in the update rule of optimize()\n",
    "                        print_cost : Set to true to print the cost every 100 iterations\n",
    "\n",
    "        RETURN VALUES:\n",
    "                        d : dictionary containing information about the models.\n",
    "    \"\"\"\n",
    "\n",
    "    # initialize parameters with zeros\n",
    "    m = X_test.shape[1]\n",
    "    A = np.zeros((10,m))\n",
    "    models = {}\n",
    "    \n",
    "    for iter in range(num_classes):\n",
    "        w, b = initialize_with_zeros(X_train.shape[0])\n",
    "    \n",
    "        #Change labels\n",
    "        Y_train_changed_labels = changeLabels(iter, Y_train)\n",
    "        \n",
    "        # Gradient descent\n",
    "        parameters, grads, costs = optimize(w, b, X_train, Y_train_changed_labels, num_iterations, learning_rate, print_cost)\n",
    "        \n",
    "        # Retrieve parameters w and b from dictionary \"parameters\"\n",
    "        w = parameters[\"w\"]\n",
    "        b = parameters[\"b\"]\n",
    "        \n",
    "        d = {\n",
    "            \"w\" : w,\n",
    "            \"b\" : b,\n",
    "            }\n",
    "    \n",
    "        models[iter] = d\n",
    "        \n",
    "    Y_prediction_train = predict(models, X_train)\n",
    "    train_accuracy = accuracy_score(np.squeeze(Y_train),np.squeeze(Y_prediction_train))*100\n",
    "    \n",
    "    Y_prediction_test = predict(models, X_test)\n",
    "    test_accuracy = accuracy_score(np.squeeze(Y_test),np.squeeze(Y_prediction_test))*100\n",
    "    \n",
    "    print(\"Train accuracy: \",train_accuracy)\n",
    "    print(\"Test accuracy\", test_accuracy)\n",
    "    \n",
    "    return models"
   ]
  },
  {
   "cell_type": "code",
   "execution_count": 33,
   "metadata": {},
   "outputs": [
    {
     "name": "stdout",
     "output_type": "stream",
     "text": [
      "Train accuracy:  96.43652561247215\n",
      "Test accuracy 95.55555555555556\n"
     ]
    }
   ],
   "source": [
    "d = model(train_set_x, train_set_y, test_set_x, test_set_y, num_iterations = 1000, learning_rate = 0.05, print_cost = False)"
   ]
  },
  {
   "cell_type": "code",
   "execution_count": null,
   "metadata": {},
   "outputs": [],
   "source": []
  }
 ],
 "metadata": {
  "kernelspec": {
   "display_name": "Python 3",
   "language": "python",
   "name": "python3"
  },
  "language_info": {
   "codemirror_mode": {
    "name": "ipython",
    "version": 3
   },
   "file_extension": ".py",
   "mimetype": "text/x-python",
   "name": "python",
   "nbconvert_exporter": "python",
   "pygments_lexer": "ipython3",
   "version": "3.7.4"
  }
 },
 "nbformat": 4,
 "nbformat_minor": 2
}
